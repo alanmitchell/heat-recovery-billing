{
 "cells": [
  {
   "cell_type": "markdown",
   "metadata": {},
   "source": [
    "## Code to Access Data in most recent AkWarm Energy Library"
   ]
  },
  {
   "cell_type": "code",
   "execution_count": 6,
   "metadata": {},
   "outputs": [],
   "source": [
    "from importlib import reload\n",
    "from io import BytesIO\n",
    "import gzip\n",
    "import xml.etree.ElementTree as ET\n",
    "import requests"
   ]
  },
  {
   "cell_type": "code",
   "execution_count": 7,
   "metadata": {},
   "outputs": [],
   "source": [
    "def get_akwarm_lib_xml():\n",
    "    \"\"\"Returns the root XML ElementTree of the most current AkWarm Energy Library.\n",
    "    Prints the name of that library.\n",
    "    \"\"\"\n",
    "    resp = requests.get('https://analysisnorth.com/AkWarm/update_combined/Library_Info.txt')\n",
    "    cur_lib_name = resp.text.splitlines()[-1].split('\\t')[0]\n",
    "    resp = requests.get(f'https://analysisnorth.com/AkWarm/update_combined/{cur_lib_name}')\n",
    "    res = [ x ^ 30 for x in resp.content]\n",
    "    file_res = BytesIO(bytes(res))\n",
    "    del res   # to save memory\n",
    "    lib = gzip.GzipFile(mode='r', fileobj=file_res).read()\n",
    "    root = ET.fromstring(lib.decode('utf-8'))\n",
    "    return root, cur_lib_name"
   ]
  },
  {
   "cell_type": "code",
   "execution_count": 8,
   "metadata": {},
   "outputs": [],
   "source": [
    "def write_city_list():\n",
    "    \"\"\"Writes into a file the list of Cities from the most current AkWarm Energy Library.\n",
    "    File name is 'city-list.txt' and is placed in the current directory.  One city per line,\n",
    "    sorted alphabetically.\n",
    "    \"\"\"\n",
    "    root, _ = get_akwarm_lib_xml()\n",
    "    cities = root.find(\"./item/key/string[.='City']/../../value/ArrayOfCity\")\n",
    "    city_list = []\n",
    "    for city in cities:\n",
    "        city_name = city.find(\"Name\").text\n",
    "        if city.find('Active').text == 'true':\n",
    "            city_list.append(city_name)\n",
    "        else:\n",
    "            print('Inactive:', city_name)\n",
    "\n",
    "    city_list.sort()\n",
    "    with open('city-list.txt', 'w') as fout:\n",
    "        for city in city_list:\n",
    "            print(city, file=fout)"
   ]
  },
  {
   "cell_type": "code",
   "execution_count": 9,
   "metadata": {},
   "outputs": [],
   "source": [
    "def get_akwarm_city_data():\n",
    "    \"\"\"Returns a dictionary keyed on City Name with the dictionary value being a dictionary\n",
    "    of key fields and values from the City table in the most recent AkWarm Energy Library.\n",
    "    Makes an attempt to convert the field value to a float.\n",
    "    \"\"\"\n",
    "    root, lib_name = get_akwarm_lib_xml()\n",
    "    city_data = {}\n",
    "    targets = ('Oil1Price', 'Oil2Price')\n",
    "    cities = root.find(\"./item/key/string[.='City']/../../value/ArrayOfCity\")\n",
    "    for city in cities:\n",
    "        fields = {}    \n",
    "        for fld in targets:\n",
    "            val = city.find(fld).text\n",
    "            try:\n",
    "                val = float(city.find(fld).text)\n",
    "            except:\n",
    "                pass\n",
    "            fields[fld] = val\n",
    "        city_data[city.find(\"Name\").text] = fields\n",
    "\n",
    "    return city_data, cur_lib_name"
   ]
  },
  {
   "cell_type": "code",
   "execution_count": 10,
   "metadata": {},
   "outputs": [
    {
     "name": "stdout",
     "output_type": "stream",
     "text": [
      "Inactive: Mertarvilk\n"
     ]
    }
   ],
   "source": [
    "write_city_list()"
   ]
  },
  {
   "cell_type": "code",
   "execution_count": 11,
   "metadata": {},
   "outputs": [
    {
     "ename": "NameError",
     "evalue": "name 'cur_lib_name' is not defined",
     "output_type": "error",
     "traceback": [
      "\u001b[0;31m---------------------------------------------------------------------------\u001b[0m",
      "\u001b[0;31mNameError\u001b[0m                                 Traceback (most recent call last)",
      "\u001b[0;32m<ipython-input-11-f528a279aa48>\u001b[0m in \u001b[0;36m<module>\u001b[0;34m\u001b[0m\n\u001b[0;32m----> 1\u001b[0;31m \u001b[0mcity_info\u001b[0m\u001b[0;34m,\u001b[0m \u001b[0mlib_name\u001b[0m \u001b[0;34m=\u001b[0m \u001b[0mget_akwarm_city_data\u001b[0m\u001b[0;34m(\u001b[0m\u001b[0;34m)\u001b[0m\u001b[0;34m\u001b[0m\u001b[0;34m\u001b[0m\u001b[0m\n\u001b[0m\u001b[1;32m      2\u001b[0m \u001b[0mprint\u001b[0m\u001b[0;34m(\u001b[0m\u001b[0mlib_name\u001b[0m\u001b[0;34m)\u001b[0m\u001b[0;34m\u001b[0m\u001b[0;34m\u001b[0m\u001b[0m\n\u001b[1;32m      3\u001b[0m \u001b[0mcity_info\u001b[0m\u001b[0;34m\u001b[0m\u001b[0;34m\u001b[0m\u001b[0m\n",
      "\u001b[0;32m<ipython-input-9-5ea0618655dd>\u001b[0m in \u001b[0;36mget_akwarm_city_data\u001b[0;34m()\u001b[0m\n\u001b[1;32m     19\u001b[0m         \u001b[0mcity_data\u001b[0m\u001b[0;34m[\u001b[0m\u001b[0mcity\u001b[0m\u001b[0;34m.\u001b[0m\u001b[0mfind\u001b[0m\u001b[0;34m(\u001b[0m\u001b[0;34m\"Name\"\u001b[0m\u001b[0;34m)\u001b[0m\u001b[0;34m.\u001b[0m\u001b[0mtext\u001b[0m\u001b[0;34m]\u001b[0m \u001b[0;34m=\u001b[0m \u001b[0mfields\u001b[0m\u001b[0;34m\u001b[0m\u001b[0;34m\u001b[0m\u001b[0m\n\u001b[1;32m     20\u001b[0m \u001b[0;34m\u001b[0m\u001b[0m\n\u001b[0;32m---> 21\u001b[0;31m     \u001b[0;32mreturn\u001b[0m \u001b[0mcity_data\u001b[0m\u001b[0;34m,\u001b[0m \u001b[0mcur_lib_name\u001b[0m\u001b[0;34m\u001b[0m\u001b[0;34m\u001b[0m\u001b[0m\n\u001b[0m",
      "\u001b[0;31mNameError\u001b[0m: name 'cur_lib_name' is not defined"
     ]
    }
   ],
   "source": [
    "city_info, lib_name = get_akwarm_city_data()\n",
    "print(lib_name)\n",
    "city_info"
   ]
  },
  {
   "cell_type": "code",
   "execution_count": null,
   "metadata": {},
   "outputs": [],
   "source": [
    "import gspread\n",
    "from config import spreadsheet_creds_file\n",
    "gc = gspread.service_account(filename=spreadsheet_creds_file)\n",
    "wb = gc.open_by_key('1FE5Lri1v_I6ZRxgfikdsU72NWKfr7eJ2OYjcbpsjaY4')"
   ]
  },
  {
   "cell_type": "code",
   "execution_count": null,
   "metadata": {},
   "outputs": [],
   "source": [
    "vals = wb.worksheet('Customers').get_all_values()"
   ]
  },
  {
   "cell_type": "code",
   "execution_count": null,
   "metadata": {},
   "outputs": [
    {
     "data": {
      "text/plain": [
       "['city',\n",
       " 'customer',\n",
       " 'cust_email',\n",
       " 'anthc_emails',\n",
       " 'sensor_id',\n",
       " 'btu_mult',\n",
       " 'fuel_categ',\n",
       " 'pct_fuel_billed',\n",
       " 'util_akw_disc',\n",
       " 'util_fuel_override',\n",
       " 'akwarm_city',\n",
       " 'cust_fuel_disc',\n",
       " 'cust_fuel_override',\n",
       " 'feas_g_01',\n",
       " 'feas_g_02',\n",
       " 'feas_g_03',\n",
       " 'feas_g_04',\n",
       " 'feas_g_05',\n",
       " 'feas_g_06',\n",
       " 'feas_g_07',\n",
       " 'feas_g_08',\n",
       " 'feas_g_09',\n",
       " 'feas_g_10',\n",
       " 'feas_g_11',\n",
       " 'feas_g_12']"
      ]
     },
     "execution_count": 23,
     "metadata": {},
     "output_type": "execute_result"
    }
   ],
   "source": [
    "vals[3]"
   ]
  },
  {
   "cell_type": "code",
   "execution_count": null,
   "metadata": {},
   "outputs": [
    {
     "data": {
      "text/plain": [
       "<module 'data_util' from '/home/tabb99/heat-recovery-billing/data_util.py'>"
      ]
     },
     "execution_count": 24,
     "metadata": {},
     "output_type": "execute_result"
    }
   ],
   "source": [
    "import data_util\n",
    "reload(data_util)"
   ]
  },
  {
   "cell_type": "code",
   "execution_count": null,
   "metadata": {},
   "outputs": [
    {
     "data": {
      "text/plain": [
       "({'Anchorage': {'Oil1Price': 3.36, 'Oil2Price': None},\n",
       "  'Adak': {'Oil1Price': 4.73, 'Oil2Price': 4.73},\n",
       "  'Akutan': {'Oil1Price': None, 'Oil2Price': 2.55},\n",
       "  'Allakaket': {'Oil1Price': 7.0, 'Oil2Price': 7.0},\n",
       "  'Angoon': {'Oil1Price': 4.15, 'Oil2Price': None},\n",
       "  'Aniak': {'Oil1Price': 6.05, 'Oil2Price': None},\n",
       "  'Arctic Village': {'Oil1Price': 12.0, 'Oil2Price': None},\n",
       "  'Atka': {'Oil1Price': 7.5, 'Oil2Price': None},\n",
       "  'Auke Bay': {'Oil1Price': 3.1, 'Oil2Price': 3.12},\n",
       "  'Barrow/Utqiavik': {'Oil1Price': None, 'Oil2Price': None},\n",
       "  'Bethel': {'Oil1Price': 3.73, 'Oil2Price': None},\n",
       "  'Bettles': {'Oil1Price': 7.45, 'Oil2Price': None},\n",
       "  'Delta Junction': {'Oil1Price': 2.93, 'Oil2Price': None},\n",
       "  'Big Lake': {'Oil1Price': 2.09, 'Oil2Price': None},\n",
       "  'Cantwell': {'Oil1Price': 3.46, 'Oil2Price': None},\n",
       "  'Central': {'Oil1Price': 3.6, 'Oil2Price': None},\n",
       "  'Chalkyitsik': {'Oil1Price': 8.0, 'Oil2Price': None},\n",
       "  'Chickaloon': {'Oil1Price': 2.8, 'Oil2Price': None},\n",
       "  'Chicken': {'Oil1Price': 3.1, 'Oil2Price': None},\n",
       "  'Chignik': {'Oil1Price': 3.94, 'Oil2Price': None},\n",
       "  'Chitina': {'Oil1Price': 2.68, 'Oil2Price': None},\n",
       "  'Circle': {'Oil1Price': 3.45, 'Oil2Price': None},\n",
       "  'Clear': {'Oil1Price': 3.06, 'Oil2Price': None},\n",
       "  'Coffman Cove': {'Oil1Price': 3.07, 'Oil2Price': 3.07},\n",
       "  'Cold Bay': {'Oil1Price': 4.96, 'Oil2Price': None},\n",
       "  'Cooper Landing': {'Oil1Price': 2.61, 'Oil2Price': None},\n",
       "  'Copper Center': {'Oil1Price': 2.98, 'Oil2Price': None},\n",
       "  'Cordova': {'Oil1Price': 3.32, 'Oil2Price': None},\n",
       "  'Atqasuk - Com': {'Oil1Price': 4.1, 'Oil2Price': None},\n",
       "  'Kaktovik - Res': {'Oil1Price': 2.5, 'Oil2Price': None},\n",
       "  'Nuiqsut': {'Oil1Price': None, 'Oil2Price': 2.3},\n",
       "  'Point Hope Res': {'Oil1Price': 1.74, 'Oil2Price': None},\n",
       "  'Point Lay': {'Oil1Price': 1.45, 'Oil2Price': None},\n",
       "  'Wainwright Res': {'Oil1Price': 1.5, 'Oil2Price': None},\n",
       "  'Ambler': {'Oil1Price': 10.0, 'Oil2Price': None},\n",
       "  'Buckland': {'Oil1Price': 6.0, 'Oil2Price': None},\n",
       "  'Deering': {'Oil1Price': 3.0, 'Oil2Price': None},\n",
       "  'Kiana': {'Oil1Price': 6.0, 'Oil2Price': None},\n",
       "  'Kivalina': {'Oil1Price': 4.04, 'Oil2Price': None},\n",
       "  'Kobuk': {'Oil1Price': 10.0, 'Oil2Price': None},\n",
       "  'Kotzebue': {'Oil1Price': 5.48, 'Oil2Price': None},\n",
       "  'Noatak': {'Oil1Price': 8.99, 'Oil2Price': None},\n",
       "  'Noorvik': {'Oil1Price': 5.42, 'Oil2Price': None},\n",
       "  'Selawik': {'Oil1Price': 7.25, 'Oil2Price': None},\n",
       "  'Shungnak': {'Oil1Price': 8.25, 'Oil2Price': None},\n",
       "  'Brevig Mission': {'Oil1Price': 3.67, 'Oil2Price': None},\n",
       "  'Diomede': {'Oil1Price': 5.0, 'Oil2Price': None},\n",
       "  'Elim': {'Oil1Price': 3.2, 'Oil2Price': None},\n",
       "  'Gambell': {'Oil1Price': 4.51, 'Oil2Price': None},\n",
       "  'Golovin': {'Oil1Price': 3.1, 'Oil2Price': None},\n",
       "  'Koyuk': {'Oil1Price': 4.71, 'Oil2Price': None},\n",
       "  'Nome': {'Oil1Price': 4.36, 'Oil2Price': None},\n",
       "  'Saint Michael': {'Oil1Price': 3.85, 'Oil2Price': None},\n",
       "  'Savoonga': {'Oil1Price': 5.35, 'Oil2Price': None},\n",
       "  'Shaktoolik': {'Oil1Price': 3.68, 'Oil2Price': None},\n",
       "  'Shishmaref': {'Oil1Price': 3.02, 'Oil2Price': 3.02},\n",
       "  'Stebbins': {'Oil1Price': 4.88, 'Oil2Price': None},\n",
       "  'Teller': {'Oil1Price': 5.93, 'Oil2Price': None},\n",
       "  'Unalakleet': {'Oil1Price': 3.99, 'Oil2Price': None},\n",
       "  'Wales': {'Oil1Price': 4.5, 'Oil2Price': None},\n",
       "  'White Mountain': {'Oil1Price': 3.0, 'Oil2Price': None},\n",
       "  'Chevak': {'Oil1Price': 5.35, 'Oil2Price': None},\n",
       "  'Emmonak': {'Oil1Price': 4.96, 'Oil2Price': None},\n",
       "  'Hooper Bay': {'Oil1Price': 5.05, 'Oil2Price': None},\n",
       "  'Kotlik': {'Oil1Price': 4.74, 'Oil2Price': None},\n",
       "  'Marshall': {'Oil1Price': 5.59, 'Oil2Price': None},\n",
       "  'Mountain Village': {'Oil1Price': 6.0, 'Oil2Price': None},\n",
       "  'Pilot Station': {'Oil1Price': 6.25, 'Oil2Price': None},\n",
       "  'Pitkas Point': {'Oil1Price': 6.55, 'Oil2Price': None},\n",
       "  'Russian Mission': {'Oil1Price': 4.5, 'Oil2Price': None},\n",
       "  \"Saint Mary's\": {'Oil1Price': 6.55, 'Oil2Price': None},\n",
       "  'Scammon Bay': {'Oil1Price': 5.52, 'Oil2Price': None},\n",
       "  'Nunum Iqua': {'Oil1Price': 5.35, 'Oil2Price': None},\n",
       "  'Akiachak': {'Oil1Price': 5.08, 'Oil2Price': None},\n",
       "  'Akiak': {'Oil1Price': 4.69, 'Oil2Price': None},\n",
       "  'Atmautluak': {'Oil1Price': 4.96, 'Oil2Price': None},\n",
       "  'Chefornak': {'Oil1Price': 5.25, 'Oil2Price': None},\n",
       "  'Eek': {'Oil1Price': 4.5, 'Oil2Price': None},\n",
       "  'Goodnews Bay': {'Oil1Price': 2.79, 'Oil2Price': None},\n",
       "  'Kasigluk': {'Oil1Price': 4.25, 'Oil2Price': None},\n",
       "  'Kipnuk': {'Oil1Price': 4.94, 'Oil2Price': None},\n",
       "  'Kongiganak': {'Oil1Price': 5.43, 'Oil2Price': None},\n",
       "  'Kwethluk': {'Oil1Price': 5.56, 'Oil2Price': None},\n",
       "  'Kwigillingok': {'Oil1Price': 5.2, 'Oil2Price': None},\n",
       "  'Mekoryok': {'Oil1Price': 4.99, 'Oil2Price': None},\n",
       "  'Napakiak': {'Oil1Price': 5.05, 'Oil2Price': None},\n",
       "  'Napaskiak': {'Oil1Price': 4.19, 'Oil2Price': None},\n",
       "  'Newtok': {'Oil1Price': 6.5, 'Oil2Price': None},\n",
       "  'Nightmute': {'Oil1Price': 6.5, 'Oil2Price': None},\n",
       "  'Nunapitchuk': {'Oil1Price': 5.15, 'Oil2Price': None},\n",
       "  'Oscarville': {'Oil1Price': 4.25, 'Oil2Price': None},\n",
       "  'Platinum': {'Oil1Price': 3.81, 'Oil2Price': None},\n",
       "  'Quinhagak': {'Oil1Price': 5.25, 'Oil2Price': None},\n",
       "  'Toksook Bay': {'Oil1Price': 5.75, 'Oil2Price': None},\n",
       "  'Tuluksak': {'Oil1Price': 6.0, 'Oil2Price': None},\n",
       "  'Tuntutuliak': {'Oil1Price': 4.99, 'Oil2Price': None},\n",
       "  'Tununak': {'Oil1Price': 4.8, 'Oil2Price': None},\n",
       "  'Chuathbaluk': {'Oil1Price': 5.7, 'Oil2Price': None},\n",
       "  'Crooked Creek': {'Oil1Price': 6.5, 'Oil2Price': None},\n",
       "  'Lime Village': {'Oil1Price': 5.6, 'Oil2Price': None},\n",
       "  'Lower Kalskag': {'Oil1Price': 5.5, 'Oil2Price': None},\n",
       "  'Sleetmute': {'Oil1Price': 5.6, 'Oil2Price': None},\n",
       "  'Stony River': {'Oil1Price': 5.75, 'Oil2Price': None},\n",
       "  'Upper Kalskag': {'Oil1Price': 5.5, 'Oil2Price': None},\n",
       "  \"Clark's Point\": {'Oil1Price': 3.6, 'Oil2Price': None},\n",
       "  'Dillingham': {'Oil1Price': 4.41, 'Oil2Price': None},\n",
       "  'Ekwok': {'Oil1Price': 5.0, 'Oil2Price': None},\n",
       "  'Koliganek': {'Oil1Price': 5.0, 'Oil2Price': None},\n",
       "  'Manokotak': {'Oil1Price': 5.0, 'Oil2Price': None},\n",
       "  'New Stuyahok': {'Oil1Price': 5.96, 'Oil2Price': None},\n",
       "  'Togiak': {'Oil1Price': 4.41, 'Oil2Price': None},\n",
       "  'Twin Hills': {'Oil1Price': 6.0, 'Oil2Price': None},\n",
       "  'King Salmon': {'Oil1Price': 3.05, 'Oil2Price': None},\n",
       "  'Naknek': {'Oil1Price': 3.05, 'Oil2Price': None},\n",
       "  'South Naknek': {'Oil1Price': 3.0, 'Oil2Price': None},\n",
       "  'Chignik Lake': {'Oil1Price': 3.68, 'Oil2Price': None},\n",
       "  'Egegik': {'Oil1Price': 2.7, 'Oil2Price': None},\n",
       "  'Igiugig': {'Oil1Price': 8.09, 'Oil2Price': None},\n",
       "  'Iliamna': {'Oil1Price': 5.24, 'Oil2Price': None},\n",
       "  'Kokhanok': {'Oil1Price': 7.0, 'Oil2Price': None},\n",
       "  'Levelock': {'Oil1Price': 6.5, 'Oil2Price': None},\n",
       "  'Newhalen': {'Oil1Price': 5.24, 'Oil2Price': None},\n",
       "  'Nondalton': {'Oil1Price': 5.29, 'Oil2Price': None},\n",
       "  'Pedro Bay': {'Oil1Price': 3.63, 'Oil2Price': None},\n",
       "  'Perryville': {'Oil1Price': 3.06, 'Oil2Price': None},\n",
       "  'Pilot Point': {'Oil1Price': 4.5, 'Oil2Price': None},\n",
       "  'Port Alsworth': {'Oil1Price': None, 'Oil2Price': None},\n",
       "  'Port Heiden': {'Oil1Price': 4.5, 'Oil2Price': None},\n",
       "  'Ugashik': {'Oil1Price': 5.5, 'Oil2Price': None},\n",
       "  'False Pass': {'Oil1Price': 3.62, 'Oil2Price': None},\n",
       "  'King Cove': {'Oil1Price': 3.81, 'Oil2Price': None},\n",
       "  'Nelson Lagoon': {'Oil1Price': 5.25, 'Oil2Price': None},\n",
       "  'Sand Point': {'Oil1Price': 4.35, 'Oil2Price': 4.35},\n",
       "  'Nikolski': {'Oil1Price': None, 'Oil2Price': None},\n",
       "  'Saint George': {'Oil1Price': None, 'Oil2Price': 6.95},\n",
       "  'Saint Paul': {'Oil1Price': 3.65, 'Oil2Price': 3.65},\n",
       "  'Unalaska': {'Oil1Price': 3.59, 'Oil2Price': 3.59},\n",
       "  'Anvik': {'Oil1Price': 5.0, 'Oil2Price': None},\n",
       "  'Grayling': {'Oil1Price': 5.0, 'Oil2Price': None},\n",
       "  'Holy Cross': {'Oil1Price': 6.05, 'Oil2Price': None},\n",
       "  'McGrath': {'Oil1Price': 6.54, 'Oil2Price': None},\n",
       "  'Nikolai': {'Oil1Price': 8.0, 'Oil2Price': None},\n",
       "  'Shageluk': {'Oil1Price': 5.5, 'Oil2Price': None},\n",
       "  'Takotna': {'Oil1Price': 4.17, 'Oil2Price': None},\n",
       "  'Beaver': {'Oil1Price': 4.5, 'Oil2Price': None},\n",
       "  'Birch Creek': {'Oil1Price': 3.5, 'Oil2Price': None},\n",
       "  'Fort Yukon': {'Oil1Price': 5.39, 'Oil2Price': None},\n",
       "  'Venetie': {'Oil1Price': 8.5, 'Oil2Price': None},\n",
       "  'Alatna': {'Oil1Price': 7.0, 'Oil2Price': 7.0},\n",
       "  'Evansville': {'Oil1Price': 7.45, 'Oil2Price': None},\n",
       "  'Galena': {'Oil1Price': 5.02, 'Oil2Price': None},\n",
       "  'Hughes': {'Oil1Price': 9.0, 'Oil2Price': None},\n",
       "  'Huslia': {'Oil1Price': 6.25, 'Oil2Price': None},\n",
       "  'Kaltag': {'Oil1Price': 4.25, 'Oil2Price': None},\n",
       "  'Koyukuk': {'Oil1Price': 6.5, 'Oil2Price': None},\n",
       "  'Minchumina': {'Oil1Price': None, 'Oil2Price': None},\n",
       "  'Manley Hot Springs': {'Oil1Price': 3.31, 'Oil2Price': None},\n",
       "  'Minto': {'Oil1Price': 4.15, 'Oil2Price': None},\n",
       "  'Nulato': {'Oil1Price': 4.7, 'Oil2Price': None},\n",
       "  'Rampart': {'Oil1Price': 5.0, 'Oil2Price': None},\n",
       "  'Ruby': {'Oil1Price': 4.75, 'Oil2Price': None},\n",
       "  'Stevens Village': {'Oil1Price': 4.5, 'Oil2Price': None},\n",
       "  'Tanana': {'Oil1Price': 3.25, 'Oil2Price': None},\n",
       "  'Wiseman': {'Oil1Price': 3.89, 'Oil2Price': None},\n",
       "  'Dot Lake': {'Oil1Price': 3.0, 'Oil2Price': None},\n",
       "  'Eagle': {'Oil1Price': 4.5, 'Oil2Price': None},\n",
       "  'Healy': {'Oil1Price': 2.65, 'Oil2Price': None},\n",
       "  'Northway': {'Oil1Price': 3.0, 'Oil2Price': None},\n",
       "  'Tanacross': {'Oil1Price': 2.9, 'Oil2Price': None},\n",
       "  'Tetlin': {'Oil1Price': 3.0, 'Oil2Price': None},\n",
       "  'Tok': {'Oil1Price': 2.9, 'Oil2Price': None},\n",
       "  'Haines': {'Oil1Price': 3.5, 'Oil2Price': 3.48},\n",
       "  'Elfin Cove': {'Oil1Price': 4.15, 'Oil2Price': 4.03},\n",
       "  'Gustavus': {'Oil1Price': 3.78, 'Oil2Price': None},\n",
       "  'Hoonah': {'Oil1Price': 3.87, 'Oil2Price': None},\n",
       "  'Pelican': {'Oil1Price': 4.0, 'Oil2Price': None},\n",
       "  'Yakutat': {'Oil1Price': 4.51, 'Oil2Price': 4.51},\n",
       "  'Klukwan': {'Oil1Price': 3.5, 'Oil2Price': 3.48},\n",
       "  'Skagway': {'Oil1Price': 3.45, 'Oil2Price': 3.43},\n",
       "  'Tenakee Springs': {'Oil1Price': 3.33000183, 'Oil2Price': 3.33},\n",
       "  'Juneau, Airport': {'Oil1Price': 2.41, 'Oil2Price': 2.41},\n",
       "  'Sitka': {'Oil1Price': 3.06, 'Oil2Price': 3.06},\n",
       "  'Wrangell': {'Oil1Price': 3.04, 'Oil2Price': 3.04},\n",
       "  'Kake': {'Oil1Price': 4.43, 'Oil2Price': None},\n",
       "  'Petersburg': {'Oil1Price': 3.04, 'Oil2Price': None},\n",
       "  'Port Alexander': {'Oil1Price': 4.06, 'Oil2Price': 4.06},\n",
       "  'Ketchikan': {'Oil1Price': 3.02, 'Oil2Price': 2.97},\n",
       "  'Saxman': {'Oil1Price': 3.02, 'Oil2Price': 2.97},\n",
       "  'Ward Cove': {'Oil1Price': 3.02, 'Oil2Price': 2.92},\n",
       "  'Metlakatla': {'Oil1Price': 3.7, 'Oil2Price': 3.75},\n",
       "  'Hyder': {'Oil1Price': None, 'Oil2Price': None},\n",
       "  'Hollis': {'Oil1Price': 3.07, 'Oil2Price': 3.04},\n",
       "  'Craig': {'Oil1Price': 3.07, 'Oil2Price': 3.07},\n",
       "  'Hydaburg': {'Oil1Price': 3.07, 'Oil2Price': 3.04},\n",
       "  'Kasaan': {'Oil1Price': 2.94, 'Oil2Price': 2.9},\n",
       "  'Klawock': {'Oil1Price': 3.07, 'Oil2Price': 3.04},\n",
       "  'Point Baker': {'Oil1Price': 5.35, 'Oil2Price': None},\n",
       "  'Port Protection': {'Oil1Price': 5.35, 'Oil2Price': None},\n",
       "  'Thorne Bay': {'Oil1Price': 3.07, 'Oil2Price': 3.04},\n",
       "  'Chistochina': {'Oil1Price': 2.8, 'Oil2Price': None},\n",
       "  'Gakona': {'Oil1Price': 2.8, 'Oil2Price': None},\n",
       "  'Glennallen': {'Oil1Price': 2.68, 'Oil2Price': None},\n",
       "  'Gulkana': {'Oil1Price': 2.8, 'Oil2Price': None},\n",
       "  'Kenny Lake': {'Oil1Price': 2.74, 'Oil2Price': None},\n",
       "  'McCarthy': {'Oil1Price': 2.68, 'Oil2Price': None},\n",
       "  'Mentasta Lake': {'Oil1Price': 2.8, 'Oil2Price': None},\n",
       "  'Paxson': {'Oil1Price': 2.85, 'Oil2Price': None},\n",
       "  'Slana': {'Oil1Price': 2.8, 'Oil2Price': None},\n",
       "  'Tazlina': {'Oil1Price': 2.8, 'Oil2Price': None},\n",
       "  'Tonsina': {'Oil1Price': 2.8, 'Oil2Price': None},\n",
       "  'Eyak': {'Oil1Price': 2.76, 'Oil2Price': None},\n",
       "  'Chenega': {'Oil1Price': 5.52, 'Oil2Price': 5.52},\n",
       "  'Tatitlek': {'Oil1Price': None, 'Oil2Price': None},\n",
       "  'Valdez': {'Oil1Price': 3.56, 'Oil2Price': None},\n",
       "  'Whittier': {'Oil1Price': 3.4, 'Oil2Price': None},\n",
       "  'English Bay/Nanwal': {'Oil1Price': 4.65, 'Oil2Price': None},\n",
       "  'Port Graham': {'Oil1Price': 3.82, 'Oil2Price': None},\n",
       "  'Seward': {'Oil1Price': 2.78, 'Oil2Price': None},\n",
       "  'Anchor Point': {'Oil1Price': 2.77, 'Oil2Price': None},\n",
       "  'Clam Gulch': {'Oil1Price': 2.61, 'Oil2Price': None},\n",
       "  'Homer': {'Oil1Price': 2.51, 'Oil2Price': None},\n",
       "  'Hope': {'Oil1Price': 2.82, 'Oil2Price': None},\n",
       "  'Kasilof': {'Oil1Price': 2.7, 'Oil2Price': None},\n",
       "  'Kenai': {'Oil1Price': 2.69, 'Oil2Price': None},\n",
       "  'Moose Pass': {'Oil1Price': 2.78, 'Oil2Price': None},\n",
       "  'Nikiski': {'Oil1Price': 2.69, 'Oil2Price': None},\n",
       "  'Nikolaevsk': {'Oil1Price': 2.8, 'Oil2Price': None},\n",
       "  'Ninilchik': {'Oil1Price': 2.77, 'Oil2Price': None},\n",
       "  'Seldovia': {'Oil1Price': 4.74, 'Oil2Price': None},\n",
       "  'Soldotna': {'Oil1Price': 2.69, 'Oil2Price': None},\n",
       "  'Sterling': {'Oil1Price': 2.69, 'Oil2Price': None},\n",
       "  'Tyonek': {'Oil1Price': 4.75, 'Oil2Price': None},\n",
       "  'Houston': {'Oil1Price': 2.65, 'Oil2Price': None},\n",
       "  'Girdwood': {'Oil1Price': 3.36, 'Oil2Price': None},\n",
       "  'Palmer': {'Oil1Price': 2.65, 'Oil2Price': None},\n",
       "  'Skwentna': {'Oil1Price': None, 'Oil2Price': None},\n",
       "  'Sutton': {'Oil1Price': 2.65, 'Oil2Price': None},\n",
       "  'Talkeetna': {'Oil1Price': 2.65, 'Oil2Price': None},\n",
       "  'Trapper Creek': {'Oil1Price': 2.65, 'Oil2Price': None},\n",
       "  'Wasilla': {'Oil1Price': 2.65, 'Oil2Price': None},\n",
       "  'Willow': {'Oil1Price': 2.65, 'Oil2Price': None},\n",
       "  'Akhiok': {'Oil1Price': 3.25, 'Oil2Price': None},\n",
       "  'Chiniak': {'Oil1Price': 3.56, 'Oil2Price': None},\n",
       "  'Karluk': {'Oil1Price': 4.92, 'Oil2Price': 4.92},\n",
       "  'Kodiak': {'Oil1Price': 3.11, 'Oil2Price': None},\n",
       "  'Larsen Bay': {'Oil1Price': 4.1, 'Oil2Price': 4.1},\n",
       "  'Old Harbor': {'Oil1Price': 4.1, 'Oil2Price': None},\n",
       "  'Ouzinkie': {'Oil1Price': 3.5, 'Oil2Price': None},\n",
       "  'Port Lions': {'Oil1Price': 3.4, 'Oil2Price': None},\n",
       "  'Juneau, City of': {'Oil1Price': 3.02, 'Oil2Price': 3.02},\n",
       "  'Fairbanks': {'Oil1Price': 3.26, 'Oil2Price': None},\n",
       "  'Alakanuk': {'Oil1Price': 4.9, 'Oil2Price': None},\n",
       "  'Aleknagik': {'Oil1Price': 4.87, 'Oil2Price': None},\n",
       "  'Anaktuvuk Pass - C': {'Oil1Price': 8.35, 'Oil2Price': None},\n",
       "  'Indian': {'Oil1Price': 3.36, 'Oil2Price': None},\n",
       "  'Chugiak': {'Oil1Price': 3.36, 'Oil2Price': None},\n",
       "  'Eagle River': {'Oil1Price': 3.36, 'Oil2Price': None},\n",
       "  'Douglas': {'Oil1Price': 3.02, 'Oil2Price': 3.02},\n",
       "  'Nenana': {'Oil1Price': 3.1, 'Oil2Price': None},\n",
       "  'North Pole': {'Oil1Price': 3.26, 'Oil2Price': None},\n",
       "  'Anderson': {'Oil1Price': 3.06, 'Oil2Price': None},\n",
       "  'Dutch Harbor': {'Oil1Price': 3.59, 'Oil2Price': None},\n",
       "  'Salcha': {'Oil1Price': 3.3, 'Oil2Price': None},\n",
       "  \"Denali Nat'l Park\": {'Oil1Price': 3.06, 'Oil2Price': None},\n",
       "  'Ester': {'Oil1Price': 3.26, 'Oil2Price': None},\n",
       "  'Bird Creek': {'Oil1Price': 3.36, 'Oil2Price': None},\n",
       "  'Whale Pass': {'Oil1Price': 3.1, 'Oil2Price': 3.06},\n",
       "  'Naukati': {'Oil1Price': 3.07, 'Oil2Price': 3.04},\n",
       "  'Anaktuvuk Pass Res': {'Oil1Price': 1.44, 'Oil2Price': None},\n",
       "  'Atqasuk - Res': {'Oil1Price': 1.4, 'Oil2Price': None},\n",
       "  'Kaktovik - Com': {'Oil1Price': 6.0, 'Oil2Price': None},\n",
       "  'Point Hope Com': {'Oil1Price': 7.25, 'Oil2Price': None},\n",
       "  'Wainwright Com': {'Oil1Price': 7.3, 'Oil2Price': None},\n",
       "  'Faribanks - Chena Ridge': {'Oil1Price': None, 'Oil2Price': None},\n",
       "  'Mertarvilk': {'Oil1Price': None, 'Oil2Price': None},\n",
       "  'Point Lay Commercial': {'Oil1Price': 7.45, 'Oil2Price': None},\n",
       "  'Chignik Lagoon': {'Oil1Price': 3.4, 'Oil2Price': None}},\n",
       " '2021-08-31.lib')"
      ]
     },
     "execution_count": 25,
     "metadata": {},
     "output_type": "execute_result"
    }
   ],
   "source": [
    "data_util.get_akwarm_city_data()"
   ]
  },
  {
   "cell_type": "code",
   "execution_count": null,
   "metadata": {},
   "outputs": [
    {
     "data": {
      "text/plain": [
       "{'AVEC Northwest': 3.75, 'AVEC YK': 3.25, 'AVEC Interior': 4.2, 'Other': nan}"
      ]
     },
     "execution_count": 23,
     "metadata": {},
     "output_type": "execute_result"
    }
   ],
   "source": [
    "data_util.utility_fuel_prices()"
   ]
  },
  {
   "cell_type": "code",
   "execution_count": null,
   "metadata": {},
   "outputs": [
    {
     "data": {
      "text/plain": [
       "[{'city': 'Chevak',\n",
       "  'customer': 'Water Plant',\n",
       "  'cust_email': 'xyz@chevak.us',\n",
       "  'anthc_emails': 'cocox@anthc.org, gdhodgson@anthc.org, dmmadden1@anthc.org',\n",
       "  'sensor_id': 'A81758FFFE0565CE_pulseAbs_raw',\n",
       "  'btu_mult': 1.0,\n",
       "  'fuel_categ': 'AVEC YK',\n",
       "  'pct_fuel_billed': 0.3,\n",
       "  'util_akw_disc': nan,\n",
       "  'util_fuel_override': nan,\n",
       "  'akwarm_city': 'Chevak',\n",
       "  'cust_fuel_disc': 0.0,\n",
       "  'cust_fuel_override': nan,\n",
       "  'feas_g_01': 200.0,\n",
       "  'feas_g_02': 180.0,\n",
       "  'feas_g_03': 150.0,\n",
       "  'feas_g_04': 100.0,\n",
       "  'feas_g_05': 50.0,\n",
       "  'feas_g_06': 20.0,\n",
       "  'feas_g_07': 0.0,\n",
       "  'feas_g_08': 10.0,\n",
       "  'feas_g_09': 50.0,\n",
       "  'feas_g_10': 80.0,\n",
       "  'feas_g_11': 120.0,\n",
       "  'feas_g_12': 180.0}]"
      ]
     },
     "execution_count": 19,
     "metadata": {},
     "output_type": "execute_result"
    }
   ],
   "source": [
    "data_util.customer_records()"
   ]
  },
  {
   "cell_type": "code",
   "execution_count": null,
   "metadata": {},
   "outputs": [
    {
     "data": {
      "text/plain": [
       "dict_keys(['city', 'customer', 'cust_email', 'anthc_emails', 'sensor_id', 'btu_mult', 'fuel_categ', 'pct_fuel_billed', 'util_akw_disc', 'util_fuel_override', 'akwarm_city', 'cust_fuel_disc', 'cust_fuel_override', 'feas_g_01', 'feas_g_02', 'feas_g_03', 'feas_g_04', 'feas_g_05', 'feas_g_06', 'feas_g_07', 'feas_g_08', 'feas_g_09', 'feas_g_10', 'feas_g_11', 'feas_g_12'])"
      ]
     },
     "execution_count": 12,
     "metadata": {},
     "output_type": "execute_result"
    }
   ],
   "source": [
    "data_util.customer_records()[0].keys()"
   ]
  },
  {
   "cell_type": "code",
   "execution_count": null,
   "metadata": {},
   "outputs": [
    {
     "data": {
      "text/plain": [
       "'2021-10-05'"
      ]
     },
     "execution_count": 40,
     "metadata": {},
     "output_type": "execute_result"
    }
   ],
   "source": [
    "from dateutil.parser import parse\n",
    "parse('Oct 2021').strftime('%Y-%m-%d')"
   ]
  },
  {
   "cell_type": "markdown",
   "metadata": {},
   "source": [
    "## Examine Test Data"
   ]
  },
  {
   "cell_type": "code",
   "execution_count": null,
   "metadata": {},
   "outputs": [],
   "source": [
    "import pandas as pd"
   ]
  },
  {
   "cell_type": "code",
   "execution_count": null,
   "metadata": {},
   "outputs": [
    {
     "data": {
      "text/plain": [
       "<AxesSubplot:>"
      ]
     },
     "execution_count": 46,
     "metadata": {},
     "output_type": "execute_result"
    },
    {
     "data": {
      "image/png": "[encoded data removed]",
      "text/plain": [
       "<Figure size 432x288 with 1 Axes>"
      ]
     },
     "metadata": {
      "needs_background": "light"
     },
     "output_type": "display_data"
    }
   ],
   "source": [
    "df = pd.read_pickle('test-data/clean_dataset.pkl', compression='bz2')\n",
    "df.plot()"
   ]
  },
  {
   "cell_type": "code",
   "execution_count": null,
   "metadata": {},
   "outputs": [
    {
     "data": {
      "text/plain": [
       "<AxesSubplot:>"
      ]
     },
     "execution_count": 45,
     "metadata": {},
     "output_type": "execute_result"
    },
    {
     "data": {
      "image/png": "[encoded data removed]",
      "text/plain": [
       "<Figure size 432x288 with 1 Axes>"
      ]
     },
     "metadata": {
      "needs_background": "light"
     },
     "output_type": "display_data"
    }
   ],
   "source": [
    "df = pd.read_pickle('test-data/two_missing_months.pkl', compression='bz2')\n",
    "df.plot()"
   ]
  },
  {
   "cell_type": "code",
   "execution_count": null,
   "metadata": {},
   "outputs": [
    {
     "data": {
      "text/html": [
       "<div>\n",
       "<style scoped>\n",
       "    .dataframe tbody tr th:only-of-type {\n",
       "        vertical-align: middle;\n",
       "    }\n",
       "\n",
       "    .dataframe tbody tr th {\n",
       "        vertical-align: top;\n",
       "    }\n",
       "\n",
       "    .dataframe thead th {\n",
       "        text-align: right;\n",
       "    }\n",
       "</style>\n",
       "<table border=\"1\" class=\"dataframe\">\n",
       "  <thead>\n",
       "    <tr style=\"text-align: right;\">\n",
       "      <th></th>\n",
       "      <th>BTU_metered</th>\n",
       "    </tr>\n",
       "  </thead>\n",
       "  <tbody>\n",
       "    <tr>\n",
       "      <th>count</th>\n",
       "      <td>7.318000e+03</td>\n",
       "    </tr>\n",
       "    <tr>\n",
       "      <th>mean</th>\n",
       "      <td>2.566181e+08</td>\n",
       "    </tr>\n",
       "    <tr>\n",
       "      <th>std</th>\n",
       "      <td>1.038054e+08</td>\n",
       "    </tr>\n",
       "    <tr>\n",
       "      <th>min</th>\n",
       "      <td>4.250000e+04</td>\n",
       "    </tr>\n",
       "    <tr>\n",
       "      <th>25%</th>\n",
       "      <td>2.702461e+08</td>\n",
       "    </tr>\n",
       "    <tr>\n",
       "      <th>50%</th>\n",
       "      <td>2.802620e+08</td>\n",
       "    </tr>\n",
       "    <tr>\n",
       "      <th>75%</th>\n",
       "      <td>2.954361e+08</td>\n",
       "    </tr>\n",
       "    <tr>\n",
       "      <th>max</th>\n",
       "      <td>4.377018e+08</td>\n",
       "    </tr>\n",
       "  </tbody>\n",
       "</table>\n",
       "</div>"
      ],
      "text/plain": [
       "        BTU_metered\n",
       "count  7.318000e+03\n",
       "mean   2.566181e+08\n",
       "std    1.038054e+08\n",
       "min    4.250000e+04\n",
       "25%    2.702461e+08\n",
       "50%    2.802620e+08\n",
       "75%    2.954361e+08\n",
       "max    4.377018e+08"
      ]
     },
     "execution_count": 12,
     "metadata": {},
     "output_type": "execute_result"
    }
   ],
   "source": [
    "df.describe()"
   ]
  },
  {
   "cell_type": "code",
   "execution_count": null,
   "metadata": {},
   "outputs": [
    {
     "data": {
      "text/plain": [
       "1"
      ]
     },
     "execution_count": 16,
     "metadata": {},
     "output_type": "execute_result"
    }
   ],
   "source": [
    "from datetime import datetime\n",
    "datetime.now().month"
   ]
  },
  {
   "cell_type": "markdown",
   "metadata": {},
   "source": [
    "## Test functions"
   ]
  },
  {
   "cell_type": "code",
   "execution_count": 1,
   "metadata": {},
   "outputs": [],
   "source": [
    "from imp import reload\n",
    "import numpy as np\n",
    "import pandas as pd\n",
    "import util.heat_calcs as hc"
   ]
  },
  {
   "cell_type": "code",
   "execution_count": 49,
   "metadata": {},
   "outputs": [
    {
     "data": {
      "text/plain": [
       "(298800.0, 39600)"
      ]
     },
     "execution_count": 49,
     "metadata": {},
     "output_type": "execute_result"
    }
   ],
   "source": [
    "reload(hc)\n",
    "btus, st, en = hc.gallons_delivered(3, 2021, 'test-two_missing_months')\n",
    "(en - st).total_seconds(), (en - st).seconds"
   ]
  },
  {
   "cell_type": "code",
   "execution_count": null,
   "metadata": {},
   "outputs": [
    {
     "name": "stdout",
     "output_type": "stream",
     "text": [
      "1 74084750.0 74084750.0 74007500.0 74084750.0\n",
      "2 65408750.0 65408750.0 65370500.0 65408750.0\n",
      "3 69935000.0 69877750.0 70050500.0 10107250.0\n",
      "4 49656000.0 49656000.0 49656000.0 nan\n",
      "5 18022500.0 18022500.0 18003000.0 14185000.0\n",
      "6 3112500.0 3112250.0 3132000.0 3112500.0\n",
      "7 0.0 0.0 0.0 0.0\n",
      "8 18750.0 18750.0 18750.0 18750.0\n",
      "9 1296500.0 1296500.0 1248500.0 1296500.0\n",
      "10 28539250.0 28539250.0 28449750.0 28539250.0\n",
      "11 55284500.0 55284500.0 55422000.0 55284500.0\n",
      "12 72300750.0 72300750.0 72300750.0 72300750.0\n"
     ]
    }
   ],
   "source": [
    "reload(hc)\n",
    "for mo in range(1, 13):\n",
    "    btu_list = []\n",
    "    for sensor in ('test-clean_dataset', 'test-sensor_resets', 'test-missing_values', 'test-two_missing_months'):\n",
    "        btus, st, end = hc.gallons_delivered(mo, 2021, sensor)\n",
    "        btu_list.append(btus)\n",
    "    print(mo, *btu_list)\n"
   ]
  },
  {
   "cell_type": "code",
   "execution_count": 9,
   "metadata": {},
   "outputs": [
    {
     "data": {
      "text/plain": [
       "<Figure size 432x288 with 0 Axes>"
      ]
     },
     "metadata": {},
     "output_type": "display_data"
    },
    {
     "data": {
      "text/plain": [
       "<Figure size 158.4x108 with 0 Axes>"
      ]
     },
     "metadata": {},
     "output_type": "display_data"
    },
    {
     "data": {
      "image/png": "[encoded data removed]",
      "text/plain": [
       "<Figure size 158.4x108 with 1 Axes>"
      ]
     },
     "metadata": {
      "needs_background": "light"
     },
     "output_type": "display_data"
    }
   ],
   "source": [
    "from matplotlib import pyplot as plt\n",
    "import PIL\n",
    "reload(hc)\n",
    "btus, st, end, mo_image, hist_image, df = hc.gallons_delivered(3, 2021, 'test-clean_dataset')"
   ]
  },
  {
   "cell_type": "code",
   "execution_count": 11,
   "metadata": {},
   "outputs": [
    {
     "data": {
      "text/html": [
       "<div>\n",
       "<style scoped>\n",
       "    .dataframe tbody tr th:only-of-type {\n",
       "        vertical-align: middle;\n",
       "    }\n",
       "\n",
       "    .dataframe tbody tr th {\n",
       "        vertical-align: top;\n",
       "    }\n",
       "\n",
       "    .dataframe thead th {\n",
       "        text-align: right;\n",
       "    }\n",
       "</style>\n",
       "<table border=\"1\" class=\"dataframe\">\n",
       "  <thead>\n",
       "    <tr style=\"text-align: right;\">\n",
       "      <th></th>\n",
       "      <th>btus</th>\n",
       "      <th>change</th>\n",
       "      <th>gallons</th>\n",
       "      <th>month</th>\n",
       "      <th>year</th>\n",
       "    </tr>\n",
       "  </thead>\n",
       "  <tbody>\n",
       "    <tr>\n",
       "      <th>count</th>\n",
       "      <td>2.161000e+03</td>\n",
       "      <td>2160.000000</td>\n",
       "      <td>2160.000000</td>\n",
       "      <td>2161.000000</td>\n",
       "      <td>2161.0</td>\n",
       "    </tr>\n",
       "    <tr>\n",
       "      <th>mean</th>\n",
       "      <td>1.069551e+08</td>\n",
       "      <td>97006.944444</td>\n",
       "      <td>0.891608</td>\n",
       "      <td>2.000925</td>\n",
       "      <td>2021.0</td>\n",
       "    </tr>\n",
       "    <tr>\n",
       "      <th>std</th>\n",
       "      <td>6.473023e+07</td>\n",
       "      <td>41362.041802</td>\n",
       "      <td>0.380166</td>\n",
       "      <td>0.831108</td>\n",
       "      <td>0.0</td>\n",
       "    </tr>\n",
       "    <tr>\n",
       "      <th>min</th>\n",
       "      <td>4.250000e+04</td>\n",
       "      <td>17250.000000</td>\n",
       "      <td>0.158548</td>\n",
       "      <td>1.000000</td>\n",
       "      <td>2021.0</td>\n",
       "    </tr>\n",
       "    <tr>\n",
       "      <th>25%</th>\n",
       "      <td>5.218700e+07</td>\n",
       "      <td>60000.000000</td>\n",
       "      <td>0.551471</td>\n",
       "      <td>1.000000</td>\n",
       "      <td>2021.0</td>\n",
       "    </tr>\n",
       "    <tr>\n",
       "      <th>50%</th>\n",
       "      <td>1.029258e+08</td>\n",
       "      <td>102250.000000</td>\n",
       "      <td>0.939798</td>\n",
       "      <td>2.000000</td>\n",
       "      <td>2021.0</td>\n",
       "    </tr>\n",
       "    <tr>\n",
       "      <th>75%</th>\n",
       "      <td>1.668142e+08</td>\n",
       "      <td>127500.000000</td>\n",
       "      <td>1.171875</td>\n",
       "      <td>3.000000</td>\n",
       "      <td>2021.0</td>\n",
       "    </tr>\n",
       "    <tr>\n",
       "      <th>max</th>\n",
       "      <td>2.095775e+08</td>\n",
       "      <td>186500.000000</td>\n",
       "      <td>1.714154</td>\n",
       "      <td>4.000000</td>\n",
       "      <td>2021.0</td>\n",
       "    </tr>\n",
       "  </tbody>\n",
       "</table>\n",
       "</div>"
      ],
      "text/plain": [
       "               btus         change      gallons        month    year\n",
       "count  2.161000e+03    2160.000000  2160.000000  2161.000000  2161.0\n",
       "mean   1.069551e+08   97006.944444     0.891608     2.000925  2021.0\n",
       "std    6.473023e+07   41362.041802     0.380166     0.831108     0.0\n",
       "min    4.250000e+04   17250.000000     0.158548     1.000000  2021.0\n",
       "25%    5.218700e+07   60000.000000     0.551471     1.000000  2021.0\n",
       "50%    1.029258e+08  102250.000000     0.939798     2.000000  2021.0\n",
       "75%    1.668142e+08  127500.000000     1.171875     3.000000  2021.0\n",
       "max    2.095775e+08  186500.000000     1.714154     4.000000  2021.0"
      ]
     },
     "execution_count": 11,
     "metadata": {},
     "output_type": "execute_result"
    }
   ],
   "source": [
    "df.describe()"
   ]
  },
  {
   "cell_type": "code",
   "execution_count": 26,
   "metadata": {},
   "outputs": [
    {
     "data": {
      "text/html": [
       "<div>\n",
       "<style scoped>\n",
       "    .dataframe tbody tr th:only-of-type {\n",
       "        vertical-align: middle;\n",
       "    }\n",
       "\n",
       "    .dataframe tbody tr th {\n",
       "        vertical-align: top;\n",
       "    }\n",
       "\n",
       "    .dataframe thead th {\n",
       "        text-align: right;\n",
       "    }\n",
       "</style>\n",
       "<table border=\"1\" class=\"dataframe\">\n",
       "  <thead>\n",
       "    <tr style=\"text-align: right;\">\n",
       "      <th></th>\n",
       "      <th>btus</th>\n",
       "      <th>change</th>\n",
       "      <th>gallons</th>\n",
       "      <th>month</th>\n",
       "      <th>year</th>\n",
       "    </tr>\n",
       "  </thead>\n",
       "  <tbody>\n",
       "    <tr>\n",
       "      <th>2021-01-16</th>\n",
       "      <td>2.520322e+10</td>\n",
       "      <td>74084750.0</td>\n",
       "      <td>680.926011</td>\n",
       "      <td>744</td>\n",
       "      <td>1503624</td>\n",
       "    </tr>\n",
       "    <tr>\n",
       "      <th>2021-02-13</th>\n",
       "      <td>7.116827e+10</td>\n",
       "      <td>65408750.0</td>\n",
       "      <td>601.183364</td>\n",
       "      <td>1344</td>\n",
       "      <td>1358112</td>\n",
       "    </tr>\n",
       "    <tr>\n",
       "      <th>2021-03-16</th>\n",
       "      <td>1.345489e+11</td>\n",
       "      <td>69935000.0</td>\n",
       "      <td>642.784926</td>\n",
       "      <td>2232</td>\n",
       "      <td>1503624</td>\n",
       "    </tr>\n",
       "    <tr>\n",
       "      <th>2021-04-15</th>\n",
       "      <td>2.095775e+08</td>\n",
       "      <td>106500.0</td>\n",
       "      <td>0.978860</td>\n",
       "      <td>4</td>\n",
       "      <td>2021</td>\n",
       "    </tr>\n",
       "  </tbody>\n",
       "</table>\n",
       "</div>"
      ],
      "text/plain": [
       "                    btus      change     gallons  month     year\n",
       "2021-01-16  2.520322e+10  74084750.0  680.926011    744  1503624\n",
       "2021-02-13  7.116827e+10  65408750.0  601.183364   1344  1358112\n",
       "2021-03-16  1.345489e+11  69935000.0  642.784926   2232  1503624\n",
       "2021-04-15  2.095775e+08    106500.0    0.978860      4     2021"
      ]
     },
     "execution_count": 26,
     "metadata": {},
     "output_type": "execute_result"
    }
   ],
   "source": [
    "from pandas.tseries.frequencies import to_offset\n",
    "from matplotlib import pyplot as plt\n",
    "import matplotlib.dates as mdates\n",
    "\n",
    "dfh = df.resample('M').sum()\n",
    "dfh.index = dfh.index + to_offset('-15D')\n",
    "dfh"
   ]
  },
  {
   "cell_type": "code",
   "execution_count": 50,
   "metadata": {},
   "outputs": [
    {
     "name": "stdout",
     "output_type": "stream",
     "text": [
      "2021-01-16 00:00:00\n",
      "2021-02-13 00:00:00\n",
      "2021-03-16 00:00:00\n",
      "2021-04-15 00:00:00\n"
     ]
    }
   ],
   "source": [
    "for d, row in dfh.iterrows():\n",
    "    print(d.to_pydatetime())"
   ]
  },
  {
   "cell_type": "code",
   "execution_count": 39,
   "metadata": {},
   "outputs": [
    {
     "data": {
      "text/plain": [
       "[\"Jan '21\", \"Feb '21\", \"Mar '21\", \"Apr '21\"]"
      ]
     },
     "execution_count": 39,
     "metadata": {},
     "output_type": "execute_result"
    }
   ],
   "source": [
    "\n",
    "xlabels = [f\"{d.strftime('%b')} '{d.strftime('%y')}\" for d in dfh.index]"
   ]
  },
  {
   "cell_type": "code",
   "execution_count": 43,
   "metadata": {},
   "outputs": [
    {
     "data": {
      "image/png": "[encoded data removed]",
      "text/plain": [
       "<Figure size 432x288 with 1 Axes>"
      ]
     },
     "metadata": {
      "needs_background": "light"
     },
     "output_type": "display_data"
    }
   ],
   "source": [
    "plt.rcParams['font.size'] = 10\n",
    "xlabels = [f\"{d.strftime('%b')} '{d.strftime('%y')}\" for d in dfh.index]\n",
    "plt.bar(xlabels, dfh.gallons)\n",
    "ax = plt.gca()\n",
    "for label in ax.get_xticklabels(which='major'):\n",
    "    label.set(rotation=45)  #, horizontalalignment='right')\n",
    "#ax = plt.gca()\n",
    "#ax.xaxis.set_major_formatter(mdates.DateFormatter('%Y-%b'))"
   ]
  },
  {
   "cell_type": "code",
   "execution_count": 30,
   "metadata": {},
   "outputs": [
    {
     "data": {
      "text/plain": [
       "2021-01-16    680.926011\n",
       "2021-02-13    601.183364\n",
       "2021-03-16    642.784926\n",
       "2021-04-15      0.978860\n",
       "Name: gallons, dtype: float64"
      ]
     },
     "execution_count": 30,
     "metadata": {},
     "output_type": "execute_result"
    }
   ],
   "source": [
    "dfh['gallons']"
   ]
  },
  {
   "cell_type": "code",
   "execution_count": 16,
   "metadata": {},
   "outputs": [
    {
     "name": "stdout",
     "output_type": "stream",
     "text": [
      "<class 'pandas.core.frame.DataFrame'>\n",
      "DatetimeIndex: 4 entries, 2021-01-31 to 2021-04-30\n",
      "Freq: M\n",
      "Data columns (total 5 columns):\n",
      " #   Column   Non-Null Count  Dtype  \n",
      "---  ------   --------------  -----  \n",
      " 0   btus     4 non-null      float64\n",
      " 1   change   4 non-null      float64\n",
      " 2   gallons  4 non-null      float64\n",
      " 3   month    4 non-null      int64  \n",
      " 4   year     4 non-null      int64  \n",
      "dtypes: float64(3), int64(2)\n",
      "memory usage: 192.0 bytes\n"
     ]
    }
   ],
   "source": [
    "dfh.info()"
   ]
  },
  {
   "cell_type": "code",
   "execution_count": 7,
   "metadata": {},
   "outputs": [
    {
     "data": {
      "image/png": "[encoded data removed]",
      "text/plain": [
       "<Figure size 432x288 with 1 Axes>"
      ]
     },
     "metadata": {
      "needs_background": "light"
     },
     "output_type": "display_data"
    }
   ],
   "source": [
    "import io\n",
    "plt.plot([1,2,3], [4,5,6])\n",
    "buf = io.BytesIO()\n",
    "plt.savefig(buf)\n",
    "buf.seek(0)\n",
    "img = PIL.Image.open(buf)"
   ]
  },
  {
   "cell_type": "code",
   "execution_count": 8,
   "metadata": {},
   "outputs": [
    {
     "data": {
      "image/png": "[encoded data removed]",
      "text/plain": [
       "<PIL.PngImagePlugin.PngImageFile image mode=RGBA size=432x288 at 0x7D16B8790A60>"
      ]
     },
     "execution_count": 8,
     "metadata": {},
     "output_type": "execute_result"
    }
   ],
   "source": [
    "img"
   ]
  },
  {
   "cell_type": "markdown",
   "metadata": {},
   "source": [
    "## Work on a Better get_btu_data() function"
   ]
  },
  {
   "cell_type": "code",
   "execution_count": 48,
   "metadata": {},
   "outputs": [],
   "source": [
    "import bmondata\n",
    "import pandas as pd\n",
    "from datetime import datetime, timedelta\n",
    "import config"
   ]
  },
  {
   "cell_type": "code",
   "execution_count": 49,
   "metadata": {},
   "outputs": [
    {
     "data": {
      "text/html": [
       "<div>\n",
       "<style scoped>\n",
       "    .dataframe tbody tr th:only-of-type {\n",
       "        vertical-align: middle;\n",
       "    }\n",
       "\n",
       "    .dataframe tbody tr th {\n",
       "        vertical-align: top;\n",
       "    }\n",
       "\n",
       "    .dataframe thead th {\n",
       "        text-align: right;\n",
       "    }\n",
       "</style>\n",
       "<table border=\"1\" class=\"dataframe\">\n",
       "  <thead>\n",
       "    <tr style=\"text-align: right;\">\n",
       "      <th></th>\n",
       "      <th>btus</th>\n",
       "      <th>change</th>\n",
       "      <th>gallons</th>\n",
       "      <th>ts</th>\n",
       "      <th>prior_ts</th>\n",
       "    </tr>\n",
       "  </thead>\n",
       "  <tbody>\n",
       "    <tr>\n",
       "      <th>2021-01-01 00:00:00</th>\n",
       "      <td>42500.0</td>\n",
       "      <td>NaN</td>\n",
       "      <td>NaN</td>\n",
       "      <td>2021-01-01 00:00:00</td>\n",
       "      <td>NaT</td>\n",
       "    </tr>\n",
       "    <tr>\n",
       "      <th>2021-01-01 01:00:00</th>\n",
       "      <td>85000.0</td>\n",
       "      <td>42500.0</td>\n",
       "      <td>0.390625</td>\n",
       "      <td>2021-01-01 01:00:00</td>\n",
       "      <td>2021-01-01 00:00:00</td>\n",
       "    </tr>\n",
       "    <tr>\n",
       "      <th>2021-01-01 02:00:00</th>\n",
       "      <td>127500.0</td>\n",
       "      <td>42500.0</td>\n",
       "      <td>0.390625</td>\n",
       "      <td>2021-01-01 02:00:00</td>\n",
       "      <td>2021-01-01 01:00:00</td>\n",
       "    </tr>\n",
       "    <tr>\n",
       "      <th>2021-01-01 03:00:00</th>\n",
       "      <td>167250.0</td>\n",
       "      <td>39750.0</td>\n",
       "      <td>0.365349</td>\n",
       "      <td>2021-01-01 03:00:00</td>\n",
       "      <td>2021-01-01 02:00:00</td>\n",
       "    </tr>\n",
       "    <tr>\n",
       "      <th>2021-01-01 04:00:00</th>\n",
       "      <td>207000.0</td>\n",
       "      <td>39750.0</td>\n",
       "      <td>0.365349</td>\n",
       "      <td>2021-01-01 04:00:00</td>\n",
       "      <td>2021-01-01 03:00:00</td>\n",
       "    </tr>\n",
       "  </tbody>\n",
       "</table>\n",
       "</div>"
      ],
      "text/plain": [
       "                         btus   change   gallons                  ts  \\\n",
       "2021-01-01 00:00:00   42500.0      NaN       NaN 2021-01-01 00:00:00   \n",
       "2021-01-01 01:00:00   85000.0  42500.0  0.390625 2021-01-01 01:00:00   \n",
       "2021-01-01 02:00:00  127500.0  42500.0  0.390625 2021-01-01 02:00:00   \n",
       "2021-01-01 03:00:00  167250.0  39750.0  0.365349 2021-01-01 03:00:00   \n",
       "2021-01-01 04:00:00  207000.0  39750.0  0.365349 2021-01-01 04:00:00   \n",
       "\n",
       "                               prior_ts  \n",
       "2021-01-01 00:00:00                 NaT  \n",
       "2021-01-01 01:00:00 2021-01-01 00:00:00  \n",
       "2021-01-01 02:00:00 2021-01-01 01:00:00  \n",
       "2021-01-01 03:00:00 2021-01-01 02:00:00  \n",
       "2021-01-01 04:00:00 2021-01-01 03:00:00  "
      ]
     },
     "execution_count": 49,
     "metadata": {},
     "output_type": "execute_result"
    }
   ],
   "source": [
    "btu_sensor_id = 'test-two_missing_months'\n",
    "btu_mult = 1.0\n",
    "bill_year = 2021\n",
    "bill_month = 11\n",
    "\n",
    "# get sensor readings a full year prior to start of billing month through readings\n",
    "# a bit into the next month.\n",
    "start_date = datetime(bill_year, bill_month, 1) - timedelta(days=365)\n",
    "end_date = datetime(bill_year, bill_month, 1) + timedelta(days=31)\n",
    "df = pd.read_pickle(f'test-data/{btu_sensor_id[5:]}.pkl', compression='bz2')\n",
    "df = df.query('index >= @start_date and index <= @end_date').copy()\n",
    "df.columns = ['btus']\n",
    "df['btus'] *= btu_mult\n",
    "\n",
    "# Calculate differences in the BTU count so that resets can be handled (by eliminating\n",
    "# negative differences).\n",
    "df['change'] = df.btus.diff()\n",
    "df['change'] = df.change.where(df.change >= 0.0)\n",
    "\n",
    "# add a column for fuel oil gallon equivalents\n",
    "df['gallons'] = df.change / (config.oil_btu_content * config.oil_heating_effic)\n",
    "\n",
    "# gives a column that gives the timestamp of the prior reading that was involved\n",
    "# in the difference.\n",
    "df['ts'] = pd.to_datetime(df.index).values\n",
    "df['prior_ts'] = df.ts.shift(1)\n",
    "\n",
    "df.head()"
   ]
  },
  {
   "cell_type": "code",
   "execution_count": 50,
   "metadata": {},
   "outputs": [
    {
     "data": {
      "text/html": [
       "<div>\n",
       "<style scoped>\n",
       "    .dataframe tbody tr th:only-of-type {\n",
       "        vertical-align: middle;\n",
       "    }\n",
       "\n",
       "    .dataframe tbody tr th {\n",
       "        vertical-align: top;\n",
       "    }\n",
       "\n",
       "    .dataframe thead th {\n",
       "        text-align: right;\n",
       "    }\n",
       "</style>\n",
       "<table border=\"1\" class=\"dataframe\">\n",
       "  <thead>\n",
       "    <tr style=\"text-align: right;\">\n",
       "      <th></th>\n",
       "      <th>gallons</th>\n",
       "      <th>ts</th>\n",
       "      <th>prior_ts</th>\n",
       "    </tr>\n",
       "  </thead>\n",
       "  <tbody>\n",
       "    <tr>\n",
       "      <th>2021-01-01 00:00:00</th>\n",
       "      <td>NaN</td>\n",
       "      <td>2021-01-01 00:00:00</td>\n",
       "      <td>NaT</td>\n",
       "    </tr>\n",
       "    <tr>\n",
       "      <th>2021-01-01 01:00:00</th>\n",
       "      <td>0.390625</td>\n",
       "      <td>2021-01-01 01:00:00</td>\n",
       "      <td>2021-01-01 00:00:00</td>\n",
       "    </tr>\n",
       "    <tr>\n",
       "      <th>2021-01-01 02:00:00</th>\n",
       "      <td>0.390625</td>\n",
       "      <td>2021-01-01 02:00:00</td>\n",
       "      <td>2021-01-01 01:00:00</td>\n",
       "    </tr>\n",
       "    <tr>\n",
       "      <th>2021-01-01 03:00:00</th>\n",
       "      <td>0.365349</td>\n",
       "      <td>2021-01-01 03:00:00</td>\n",
       "      <td>2021-01-01 02:00:00</td>\n",
       "    </tr>\n",
       "    <tr>\n",
       "      <th>2021-01-01 04:00:00</th>\n",
       "      <td>0.365349</td>\n",
       "      <td>2021-01-01 04:00:00</td>\n",
       "      <td>2021-01-01 03:00:00</td>\n",
       "    </tr>\n",
       "  </tbody>\n",
       "</table>\n",
       "</div>"
      ],
      "text/plain": [
       "                      gallons                  ts            prior_ts\n",
       "2021-01-01 00:00:00       NaN 2021-01-01 00:00:00                 NaT\n",
       "2021-01-01 01:00:00  0.390625 2021-01-01 01:00:00 2021-01-01 00:00:00\n",
       "2021-01-01 02:00:00  0.390625 2021-01-01 02:00:00 2021-01-01 01:00:00\n",
       "2021-01-01 03:00:00  0.365349 2021-01-01 03:00:00 2021-01-01 02:00:00\n",
       "2021-01-01 04:00:00  0.365349 2021-01-01 04:00:00 2021-01-01 03:00:00"
      ]
     },
     "execution_count": 50,
     "metadata": {},
     "output_type": "execute_result"
    }
   ],
   "source": [
    "df.drop(columns=['btus', 'change'], inplace=True)\n",
    "df.head()"
   ]
  },
  {
   "cell_type": "code",
   "execution_count": 53,
   "metadata": {},
   "outputs": [
    {
     "data": {
      "text/html": [
       "<div>\n",
       "<style scoped>\n",
       "    .dataframe tbody tr th:only-of-type {\n",
       "        vertical-align: middle;\n",
       "    }\n",
       "\n",
       "    .dataframe tbody tr th {\n",
       "        vertical-align: top;\n",
       "    }\n",
       "\n",
       "    .dataframe thead th {\n",
       "        text-align: right;\n",
       "    }\n",
       "</style>\n",
       "<table border=\"1\" class=\"dataframe\">\n",
       "  <thead>\n",
       "    <tr style=\"text-align: right;\">\n",
       "      <th></th>\n",
       "      <th>gallons</th>\n",
       "      <th>ts</th>\n",
       "      <th>prior_ts</th>\n",
       "      <th>bill_days</th>\n",
       "      <th>full_month_err</th>\n",
       "    </tr>\n",
       "  </thead>\n",
       "  <tbody>\n",
       "    <tr>\n",
       "      <th>2021-01-31</th>\n",
       "      <td>680.926011</td>\n",
       "      <td>2021-01-31 23:00:00</td>\n",
       "      <td>2021-01-01 00:00:00</td>\n",
       "      <td>30.958333</td>\n",
       "      <td>-0.041667</td>\n",
       "    </tr>\n",
       "    <tr>\n",
       "      <th>2021-02-28</th>\n",
       "      <td>601.183364</td>\n",
       "      <td>2021-02-28 23:00:00</td>\n",
       "      <td>2021-01-31 23:00:00</td>\n",
       "      <td>28.000000</td>\n",
       "      <td>0.000000</td>\n",
       "    </tr>\n",
       "    <tr>\n",
       "      <th>2021-03-31</th>\n",
       "      <td>92.897518</td>\n",
       "      <td>2021-03-04 10:00:00</td>\n",
       "      <td>2021-02-28 23:00:00</td>\n",
       "      <td>3.458333</td>\n",
       "      <td>-27.541667</td>\n",
       "    </tr>\n",
       "    <tr>\n",
       "      <th>2021-04-30</th>\n",
       "      <td>0.000000</td>\n",
       "      <td>NaT</td>\n",
       "      <td>NaT</td>\n",
       "      <td>NaN</td>\n",
       "      <td>NaN</td>\n",
       "    </tr>\n",
       "    <tr>\n",
       "      <th>2021-05-31</th>\n",
       "      <td>1171.932445</td>\n",
       "      <td>2021-05-31 23:00:00</td>\n",
       "      <td>2021-03-04 10:00:00</td>\n",
       "      <td>88.541667</td>\n",
       "      <td>57.541667</td>\n",
       "    </tr>\n",
       "    <tr>\n",
       "      <th>2021-06-30</th>\n",
       "      <td>28.607537</td>\n",
       "      <td>2021-06-30 23:00:00</td>\n",
       "      <td>2021-05-31 23:00:00</td>\n",
       "      <td>30.000000</td>\n",
       "      <td>0.000000</td>\n",
       "    </tr>\n",
       "    <tr>\n",
       "      <th>2021-07-31</th>\n",
       "      <td>0.000000</td>\n",
       "      <td>2021-07-31 23:00:00</td>\n",
       "      <td>2021-06-30 23:00:00</td>\n",
       "      <td>31.000000</td>\n",
       "      <td>0.000000</td>\n",
       "    </tr>\n",
       "    <tr>\n",
       "      <th>2021-08-31</th>\n",
       "      <td>0.172335</td>\n",
       "      <td>2021-08-31 23:00:00</td>\n",
       "      <td>2021-07-31 23:00:00</td>\n",
       "      <td>31.000000</td>\n",
       "      <td>0.000000</td>\n",
       "    </tr>\n",
       "    <tr>\n",
       "      <th>2021-09-30</th>\n",
       "      <td>11.916360</td>\n",
       "      <td>2021-09-30 23:00:00</td>\n",
       "      <td>2021-08-31 23:00:00</td>\n",
       "      <td>30.000000</td>\n",
       "      <td>0.000000</td>\n",
       "    </tr>\n",
       "    <tr>\n",
       "      <th>2021-10-31</th>\n",
       "      <td>262.309283</td>\n",
       "      <td>2021-10-31 23:00:00</td>\n",
       "      <td>2021-09-30 23:00:00</td>\n",
       "      <td>31.000000</td>\n",
       "      <td>0.000000</td>\n",
       "    </tr>\n",
       "    <tr>\n",
       "      <th>2021-11-30</th>\n",
       "      <td>508.129596</td>\n",
       "      <td>2021-11-30 23:00:00</td>\n",
       "      <td>2021-10-31 23:00:00</td>\n",
       "      <td>30.000000</td>\n",
       "      <td>0.000000</td>\n",
       "    </tr>\n",
       "  </tbody>\n",
       "</table>\n",
       "</div>"
      ],
      "text/plain": [
       "                gallons                  ts            prior_ts  bill_days  \\\n",
       "2021-01-31   680.926011 2021-01-31 23:00:00 2021-01-01 00:00:00  30.958333   \n",
       "2021-02-28   601.183364 2021-02-28 23:00:00 2021-01-31 23:00:00  28.000000   \n",
       "2021-03-31    92.897518 2021-03-04 10:00:00 2021-02-28 23:00:00   3.458333   \n",
       "2021-04-30     0.000000                 NaT                 NaT        NaN   \n",
       "2021-05-31  1171.932445 2021-05-31 23:00:00 2021-03-04 10:00:00  88.541667   \n",
       "2021-06-30    28.607537 2021-06-30 23:00:00 2021-05-31 23:00:00  30.000000   \n",
       "2021-07-31     0.000000 2021-07-31 23:00:00 2021-06-30 23:00:00  31.000000   \n",
       "2021-08-31     0.172335 2021-08-31 23:00:00 2021-07-31 23:00:00  31.000000   \n",
       "2021-09-30    11.916360 2021-09-30 23:00:00 2021-08-31 23:00:00  30.000000   \n",
       "2021-10-31   262.309283 2021-10-31 23:00:00 2021-09-30 23:00:00  31.000000   \n",
       "2021-11-30   508.129596 2021-11-30 23:00:00 2021-10-31 23:00:00  30.000000   \n",
       "\n",
       "            full_month_err  \n",
       "2021-01-31       -0.041667  \n",
       "2021-02-28        0.000000  \n",
       "2021-03-31      -27.541667  \n",
       "2021-04-30             NaN  \n",
       "2021-05-31       57.541667  \n",
       "2021-06-30        0.000000  \n",
       "2021-07-31        0.000000  \n",
       "2021-08-31        0.000000  \n",
       "2021-09-30        0.000000  \n",
       "2021-10-31        0.000000  \n",
       "2021-11-30        0.000000  "
      ]
     },
     "execution_count": 53,
     "metadata": {},
     "output_type": "execute_result"
    }
   ],
   "source": [
    "df_mo = df.resample('M').agg({'gallons': sum, 'ts': 'max', 'prior_ts': 'min'})\n",
    "df_mo['bill_days'] = (df_mo.ts - df_mo.prior_ts).dt.total_seconds() / (3600 * 24)\n",
    "df_mo['full_month_err'] = df_mo.bill_days - df_mo.index.days_in_month\n",
    "# trim it back to the billing month and before\n",
    "df_mo = df_mo.query('index < @end_date').copy()\n",
    "df_mo"
   ]
  },
  {
   "cell_type": "code",
   "execution_count": 52,
   "metadata": {},
   "outputs": [
    {
     "data": {
      "text/html": [
       "<div>\n",
       "<style scoped>\n",
       "    .dataframe tbody tr th:only-of-type {\n",
       "        vertical-align: middle;\n",
       "    }\n",
       "\n",
       "    .dataframe tbody tr th {\n",
       "        vertical-align: top;\n",
       "    }\n",
       "\n",
       "    .dataframe thead th {\n",
       "        text-align: right;\n",
       "    }\n",
       "</style>\n",
       "<table border=\"1\" class=\"dataframe\">\n",
       "  <thead>\n",
       "    <tr style=\"text-align: right;\">\n",
       "      <th></th>\n",
       "      <th>gallons</th>\n",
       "      <th>ts</th>\n",
       "      <th>prior_ts</th>\n",
       "      <th>bill_days</th>\n",
       "      <th>full_month_err</th>\n",
       "    </tr>\n",
       "  </thead>\n",
       "  <tbody>\n",
       "    <tr>\n",
       "      <th>2021-01-31</th>\n",
       "      <td>680.926011</td>\n",
       "      <td>2021-01-31 23:00:00</td>\n",
       "      <td>2021-01-01 00:00:00</td>\n",
       "      <td>30.958333</td>\n",
       "      <td>-0.041667</td>\n",
       "    </tr>\n",
       "    <tr>\n",
       "      <th>2021-02-28</th>\n",
       "      <td>601.183364</td>\n",
       "      <td>2021-02-28 23:00:00</td>\n",
       "      <td>2021-01-31 23:00:00</td>\n",
       "      <td>28.000000</td>\n",
       "      <td>0.000000</td>\n",
       "    </tr>\n",
       "    <tr>\n",
       "      <th>2021-03-31</th>\n",
       "      <td>92.897518</td>\n",
       "      <td>2021-03-04 10:00:00</td>\n",
       "      <td>2021-02-28 23:00:00</td>\n",
       "      <td>3.458333</td>\n",
       "      <td>-27.541667</td>\n",
       "    </tr>\n",
       "    <tr>\n",
       "      <th>2021-04-30</th>\n",
       "      <td>0.000000</td>\n",
       "      <td>NaT</td>\n",
       "      <td>NaT</td>\n",
       "      <td>NaN</td>\n",
       "      <td>NaN</td>\n",
       "    </tr>\n",
       "    <tr>\n",
       "      <th>2021-05-31</th>\n",
       "      <td>1171.932445</td>\n",
       "      <td>2021-05-31 23:00:00</td>\n",
       "      <td>2021-03-04 10:00:00</td>\n",
       "      <td>88.541667</td>\n",
       "      <td>57.541667</td>\n",
       "    </tr>\n",
       "    <tr>\n",
       "      <th>2021-06-30</th>\n",
       "      <td>28.607537</td>\n",
       "      <td>2021-06-30 23:00:00</td>\n",
       "      <td>2021-05-31 23:00:00</td>\n",
       "      <td>30.000000</td>\n",
       "      <td>0.000000</td>\n",
       "    </tr>\n",
       "    <tr>\n",
       "      <th>2021-07-31</th>\n",
       "      <td>0.000000</td>\n",
       "      <td>2021-07-31 23:00:00</td>\n",
       "      <td>2021-06-30 23:00:00</td>\n",
       "      <td>31.000000</td>\n",
       "      <td>0.000000</td>\n",
       "    </tr>\n",
       "    <tr>\n",
       "      <th>2021-08-31</th>\n",
       "      <td>0.172335</td>\n",
       "      <td>2021-08-31 23:00:00</td>\n",
       "      <td>2021-07-31 23:00:00</td>\n",
       "      <td>31.000000</td>\n",
       "      <td>0.000000</td>\n",
       "    </tr>\n",
       "    <tr>\n",
       "      <th>2021-09-30</th>\n",
       "      <td>11.916360</td>\n",
       "      <td>2021-09-30 23:00:00</td>\n",
       "      <td>2021-08-31 23:00:00</td>\n",
       "      <td>30.000000</td>\n",
       "      <td>0.000000</td>\n",
       "    </tr>\n",
       "    <tr>\n",
       "      <th>2021-10-31</th>\n",
       "      <td>262.309283</td>\n",
       "      <td>2021-10-31 23:00:00</td>\n",
       "      <td>2021-09-30 23:00:00</td>\n",
       "      <td>31.000000</td>\n",
       "      <td>0.000000</td>\n",
       "    </tr>\n",
       "    <tr>\n",
       "      <th>2021-11-30</th>\n",
       "      <td>508.129596</td>\n",
       "      <td>2021-11-30 23:00:00</td>\n",
       "      <td>2021-10-31 23:00:00</td>\n",
       "      <td>30.000000</td>\n",
       "      <td>0.000000</td>\n",
       "    </tr>\n",
       "  </tbody>\n",
       "</table>\n",
       "</div>"
      ],
      "text/plain": [
       "                gallons                  ts            prior_ts  bill_days  \\\n",
       "2021-01-31   680.926011 2021-01-31 23:00:00 2021-01-01 00:00:00  30.958333   \n",
       "2021-02-28   601.183364 2021-02-28 23:00:00 2021-01-31 23:00:00  28.000000   \n",
       "2021-03-31    92.897518 2021-03-04 10:00:00 2021-02-28 23:00:00   3.458333   \n",
       "2021-04-30     0.000000                 NaT                 NaT        NaN   \n",
       "2021-05-31  1171.932445 2021-05-31 23:00:00 2021-03-04 10:00:00  88.541667   \n",
       "2021-06-30    28.607537 2021-06-30 23:00:00 2021-05-31 23:00:00  30.000000   \n",
       "2021-07-31     0.000000 2021-07-31 23:00:00 2021-06-30 23:00:00  31.000000   \n",
       "2021-08-31     0.172335 2021-08-31 23:00:00 2021-07-31 23:00:00  31.000000   \n",
       "2021-09-30    11.916360 2021-09-30 23:00:00 2021-08-31 23:00:00  30.000000   \n",
       "2021-10-31   262.309283 2021-10-31 23:00:00 2021-09-30 23:00:00  31.000000   \n",
       "2021-11-30   508.129596 2021-11-30 23:00:00 2021-10-31 23:00:00  30.000000   \n",
       "\n",
       "            full_month_err  \n",
       "2021-01-31       -0.041667  \n",
       "2021-02-28        0.000000  \n",
       "2021-03-31      -27.541667  \n",
       "2021-04-30             NaN  \n",
       "2021-05-31       57.541667  \n",
       "2021-06-30        0.000000  \n",
       "2021-07-31        0.000000  \n",
       "2021-08-31        0.000000  \n",
       "2021-09-30        0.000000  \n",
       "2021-10-31        0.000000  \n",
       "2021-11-30        0.000000  "
      ]
     },
     "execution_count": 52,
     "metadata": {},
     "output_type": "execute_result"
    }
   ],
   "source": [
    "df_mo.query('index < @end_date')"
   ]
  },
  {
   "cell_type": "code",
   "execution_count": 41,
   "metadata": {},
   "outputs": [
    {
     "data": {
      "text/html": [
       "<div>\n",
       "<style scoped>\n",
       "    .dataframe tbody tr th:only-of-type {\n",
       "        vertical-align: middle;\n",
       "    }\n",
       "\n",
       "    .dataframe tbody tr th {\n",
       "        vertical-align: top;\n",
       "    }\n",
       "\n",
       "    .dataframe thead th {\n",
       "        text-align: right;\n",
       "    }\n",
       "</style>\n",
       "<table border=\"1\" class=\"dataframe\">\n",
       "  <thead>\n",
       "    <tr style=\"text-align: right;\">\n",
       "      <th></th>\n",
       "      <th>gallons</th>\n",
       "      <th>ts</th>\n",
       "      <th>prior_ts</th>\n",
       "      <th>bill_days</th>\n",
       "      <th>full_month_err</th>\n",
       "    </tr>\n",
       "  </thead>\n",
       "  <tbody>\n",
       "    <tr>\n",
       "      <th>2021-11-30</th>\n",
       "      <td>508.129596</td>\n",
       "      <td>2021-11-30 23:00:00</td>\n",
       "      <td>2021-10-31 23:00:00</td>\n",
       "      <td>30.0</td>\n",
       "      <td>0.0</td>\n",
       "    </tr>\n",
       "  </tbody>\n",
       "</table>\n",
       "</div>"
      ],
      "text/plain": [
       "               gallons                  ts            prior_ts  bill_days  \\\n",
       "2021-11-30  508.129596 2021-11-30 23:00:00 2021-10-31 23:00:00       30.0   \n",
       "\n",
       "            full_month_err  \n",
       "2021-11-30             0.0  "
      ]
     },
     "execution_count": 41,
     "metadata": {},
     "output_type": "execute_result"
    }
   ],
   "source": [
    "df_mo[(df_mo.index.year == 2021) & (df_mo.index.month == 11)]"
   ]
  },
  {
   "cell_type": "code",
   "execution_count": 46,
   "metadata": {},
   "outputs": [],
   "source": [
    "ser_daily = df[(df.index.year == 2021) & (df.index.month == 11)].resample('D').sum()['gallons']"
   ]
  },
  {
   "cell_type": "code",
   "execution_count": 47,
   "metadata": {},
   "outputs": [
    {
     "data": {
      "text/plain": [
       "<AxesSubplot:>"
      ]
     },
     "execution_count": 47,
     "metadata": {},
     "output_type": "execute_result"
    },
    {
     "data": {
      "image/png": "[encoded data removed]",
      "text/plain": [
       "<Figure size 432x288 with 1 Axes>"
      ]
     },
     "metadata": {
      "needs_background": "light"
     },
     "output_type": "display_data"
    }
   ],
   "source": [
    "ser_daily.plot()"
   ]
  },
  {
   "cell_type": "code",
   "execution_count": 54,
   "metadata": {},
   "outputs": [
    {
     "data": {
      "text/plain": [
       "508.1295955882353"
      ]
     },
     "execution_count": 54,
     "metadata": {},
     "output_type": "execute_result"
    }
   ],
   "source": [
    "ser_daily.sum()"
   ]
  }
 ],
 "metadata": {
  "interpreter": {
   "hash": "32217ef1a18e0873be2b8577bcd4748ae550f7c44e56855b0f4079f70b08c6db"
  },
  "kernelspec": {
   "display_name": "Python 3.8.8 64-bit ('base': conda)",
   "name": "python3"
  },
  "language_info": {
   "codemirror_mode": {
    "name": "ipython",
    "version": 3
   },
   "file_extension": ".py",
   "mimetype": "text/x-python",
   "name": "python",
   "nbconvert_exporter": "python",
   "pygments_lexer": "ipython3",
   "version": "3.8.8"
  },
  "orig_nbformat": 4
 },
 "nbformat": 4,
 "nbformat_minor": 2
}
